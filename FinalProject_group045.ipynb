{
 "cells": [
  {
   "cell_type": "markdown",
   "metadata": {},
   "source": [
    "# COGS 118A - Final Project"
   ]
  },
  {
   "cell_type": "markdown",
   "metadata": {},
   "source": [
    "# Indicators of Heart Disease\n",
    "\n",
    "## Group members\n",
    "\n",
    "- Bohan Lei\n",
    "- Zheran Li\n",
    "- Ryan Choi\n",
    "- Yiyao Liu\n",
    "- Duye Liu"
   ]
  },
  {
   "cell_type": "markdown",
   "metadata": {},
   "source": [
    "# Abstract \n",
    "\n",
    "   Our goal in this project is to build prediction models that predict whether or not someone has heart disease based on their health status and ethnographic data. We cleaned the 2020 CDC survey data of 400k adults and choose the features including Smoking, Stroke, PhysicalHealth, DiffWalking, AgeCategory,Diabetic, PhysicalActivity, GenHealth, and KidneyDisease. We split the data into training and testing set, and used gridsearch with four algorithms (Logistic Regression, KNN, Decision Tree, Random Forest) to find four sets of best hyperparameters. We compared the results on the test set, using accuracy and recall as evaluation metrics, and used a 10-fold cross validation to further select the best model, adding roc_auc_score and mean squared error as our metric. Among the four, we decide that best_logistic is the best model. It generates around 73.45% accuracy and has a roc for about 75.3% with the smallest standard deviation across folds. \n"
   ]
  },
  {
   "cell_type": "markdown",
   "metadata": {},
   "source": [
    "# Background\n",
    "\n",
    "One study that is similar to our project objective is using a machine learning model for predicting out-of-hospital cardiac arrests based on meteorological and chronological data. In this study, the researches used eXtreme Gradient Boosting algorithm to generate a model that predict daily Out-of-hospital cardiac arrest based on  OHCA nationwide registry and high-resolution meteorological and chronological datasets from Japan<a name=\"ha1\"></a>[<sup>[1]</sup>](#ha1note). Their result have shown that combining meteorological and chronological variables in the machine learning model have the best predictive accuracy in both the training and testing datasets<a name=\"ha1\"></a>[<sup>[2]</sup>](#ha1note). Their research outcome have also indicated that factors like holiday, weekend,  low ambient temperature, and large interday or intraday temperature difference are strongly associated out-of-hospital cardiac arrest<a name=\"ha1\"></a>[<sup>[3]</sup>](#ha1note).  \n",
    "\n",
    "Similarly, a recent study done by the Cedars-Sinai Artificial Intelligence in Medicine division<a name=\"sota\"></a>[<sup>[4]</sup>](#sotanote) found that by combining  CTA and F-NaF PET , two advanced imaging techniques together, the team was able to develop machine learning models that improve the prediction of heart attacks. The team took data from 293 patients from the ages of 56 - 74 years in the span of 53 month, and created three models to predict the possibility of future heart attacks<a name=\"sota\"></a>[<sup>[5]</sup>](#sotanote). By comparing with the other two models they developed based on baseline characteristics and the quantitative plaque analysis variables from CTA, they found that the model that combines CTA and F-NaF PET produce the most accurate result<a name=\"sota\"></a>[<sup>[6]</sup>](#sotanote)."
   ]
  },
  {
   "cell_type": "markdown",
   "metadata": {},
   "source": [
    "# Problem Statement\n",
    "\n",
    "According to the CDC and WHO, heart disease is the most common cause of death in the world, responsible for 16% of total deaths. There are some common key risk factors that could increase one’s chance of getting a heart disease including high blood pressure, high cholesterol, physical inactivity, and smoking. Understanding what key risk factors lead to heart disease and avoiding them will make it much easier to prevent getting a heart disease. The original data given by kaggle contains 401,958 rows and 279 columns where each column corresponds to different factors that could lead to heart attack (questions on survey) and each row corresponds to values (answers for questions). \n",
    "\n",
    "Using this dataset, we can represent risk of having the disease as binary data (1 for high risk, 0 for low risk), and apply machine learning classification algorithms such as Decision Trees and KNN to detect patterns within the data, which will help us to understand which factors have the greatest impact on heart disease, and build a model to predict someone's risk of havng heart disease given their medical records. We can then use part of the original data to test the model's prediction. With the results, doctors could advise people who have a high chance of getting a heart attack (e.g. family history) what actions to take to lower their chance of getting a heart disease.  \n"
   ]
  },
  {
   "cell_type": "markdown",
   "metadata": {},
   "source": [
    "# Data\n",
    "In this project, we use the Personal Key Indicators of Heart Disease Dataset (https://www.kaggle.com/datasets/kamilpytlak/personal-key-indicators-of-heart-disease). \n",
    "\n",
    "This dataset is based on the 2020 annual Center of Disease Control and Prevention (CDC) survey of around 400k adults related to their health status. The dataset has in total 18 variables and 320,000 observations. Each observation consists of the results of the 18 variables. The variables are: HeartDisease, BMI, Smoking, AlcoholDrinking, Stroke, PhysicalHealth, DiffWalking, Sex, AgeCategory, Race, Diabetic, PhysicalActivity, GenHealth, SleepTime, Asthma, KidneyDisease, and SkinCancer. Since the goal of  our project is to find the factors that lead to heart disease, this data sets will best support the need of our project. We can use correlation map to see which factor (such as “Smoking”,”alcholDrinking”, or “stroke”) have the highest correlation to heartdiesase. Then we can used the data set to apply to machine learning algorithms to detect patterns within the data. \n",
    "\n",
    "The most important variable is the HeartDisease variable, as that is the variable that we are going to predict by our model. We will use 1 to represent the result of “yes“， and 0 to “no”. This transformation will also be applied into other variables that contain only “yes” and “no”. This includes Smoking, AlcoholDrinking, Stroke, DiffWalking, Diabetic, PhysicalActivity, Asthma, KidneyDisease, and SkinCancer. Also, for sex, we denote 1 as “male” and 0 as “female”. For AgeCategory, since it will be hard for a model to predict a category, we will just use the starting age of the age group. For example, for category “75-79”, we will just replace it as 75. For race and general health, since there are too many categories, we will either use small numbers to represent each category, or use one-hot coding to transfer it into the numbers with 1 and 0. \n",
    "\n",
    "To clean the data, we have transformed the variables into machine learning friendly form. We changed all boolean values into binary 0/1, and also changed the range of age into numerical values. After that we looked at the correlation between HeartDiease( our y column) and other features in order to reduce the dimension and complexity of our model. Finally, we are left with about 320000 observations and 10 variables, including 9 features (data cleaning code:https://github.com/COGS118A/Group045-Sp22/blob/main/Cogs_118A_Final_Project_Code_checkpoint.ipynb)."
   ]
  },
  {
   "cell_type": "code",
   "execution_count": 1,
   "metadata": {},
   "outputs": [
    {
     "name": "stdout",
     "output_type": "stream",
     "text": [
      "(319795, 10)\n"
     ]
    },
    {
     "data": {
      "text/html": [
       "<div>\n",
       "<style scoped>\n",
       "    .dataframe tbody tr th:only-of-type {\n",
       "        vertical-align: middle;\n",
       "    }\n",
       "\n",
       "    .dataframe tbody tr th {\n",
       "        vertical-align: top;\n",
       "    }\n",
       "\n",
       "    .dataframe thead th {\n",
       "        text-align: right;\n",
       "    }\n",
       "</style>\n",
       "<table border=\"1\" class=\"dataframe\">\n",
       "  <thead>\n",
       "    <tr style=\"text-align: right;\">\n",
       "      <th></th>\n",
       "      <th>HeartDisease</th>\n",
       "      <th>Smoking</th>\n",
       "      <th>Stroke</th>\n",
       "      <th>PhysicalHealth</th>\n",
       "      <th>DiffWalking</th>\n",
       "      <th>Age</th>\n",
       "      <th>Diabetic</th>\n",
       "      <th>PhysicalActivity</th>\n",
       "      <th>GenHealth</th>\n",
       "      <th>KidneyDisease</th>\n",
       "    </tr>\n",
       "  </thead>\n",
       "  <tbody>\n",
       "    <tr>\n",
       "      <th>0</th>\n",
       "      <td>0</td>\n",
       "      <td>1</td>\n",
       "      <td>0</td>\n",
       "      <td>3.0</td>\n",
       "      <td>0</td>\n",
       "      <td>55</td>\n",
       "      <td>1</td>\n",
       "      <td>1</td>\n",
       "      <td>3</td>\n",
       "      <td>0</td>\n",
       "    </tr>\n",
       "    <tr>\n",
       "      <th>1</th>\n",
       "      <td>0</td>\n",
       "      <td>0</td>\n",
       "      <td>1</td>\n",
       "      <td>0.0</td>\n",
       "      <td>0</td>\n",
       "      <td>80</td>\n",
       "      <td>0</td>\n",
       "      <td>1</td>\n",
       "      <td>3</td>\n",
       "      <td>0</td>\n",
       "    </tr>\n",
       "    <tr>\n",
       "      <th>2</th>\n",
       "      <td>0</td>\n",
       "      <td>1</td>\n",
       "      <td>0</td>\n",
       "      <td>20.0</td>\n",
       "      <td>0</td>\n",
       "      <td>65</td>\n",
       "      <td>1</td>\n",
       "      <td>1</td>\n",
       "      <td>1</td>\n",
       "      <td>0</td>\n",
       "    </tr>\n",
       "    <tr>\n",
       "      <th>3</th>\n",
       "      <td>0</td>\n",
       "      <td>0</td>\n",
       "      <td>0</td>\n",
       "      <td>0.0</td>\n",
       "      <td>0</td>\n",
       "      <td>75</td>\n",
       "      <td>0</td>\n",
       "      <td>0</td>\n",
       "      <td>2</td>\n",
       "      <td>0</td>\n",
       "    </tr>\n",
       "    <tr>\n",
       "      <th>4</th>\n",
       "      <td>0</td>\n",
       "      <td>0</td>\n",
       "      <td>0</td>\n",
       "      <td>28.0</td>\n",
       "      <td>1</td>\n",
       "      <td>40</td>\n",
       "      <td>0</td>\n",
       "      <td>1</td>\n",
       "      <td>3</td>\n",
       "      <td>0</td>\n",
       "    </tr>\n",
       "  </tbody>\n",
       "</table>\n",
       "</div>"
      ],
      "text/plain": [
       "   HeartDisease  Smoking  Stroke  PhysicalHealth  DiffWalking  Age  Diabetic  \\\n",
       "0             0        1       0             3.0            0   55         1   \n",
       "1             0        0       1             0.0            0   80         0   \n",
       "2             0        1       0            20.0            0   65         1   \n",
       "3             0        0       0             0.0            0   75         0   \n",
       "4             0        0       0            28.0            1   40         0   \n",
       "\n",
       "   PhysicalActivity  GenHealth  KidneyDisease  \n",
       "0                 1          3              0  \n",
       "1                 1          3              0  \n",
       "2                 1          1              0  \n",
       "3                 0          2              0  \n",
       "4                 1          3              0  "
      ]
     },
     "execution_count": 1,
     "metadata": {},
     "output_type": "execute_result"
    }
   ],
   "source": [
    "# Take a look at our cleaned data\n",
    "import pandas as pd\n",
    "df = pd.read_csv('cleaned_df.csv').drop('Unnamed: 0', axis = 1)\n",
    "print(df.shape)\n",
    "df.head()"
   ]
  },
  {
   "cell_type": "code",
   "execution_count": 6,
   "metadata": {},
   "outputs": [
    {
     "data": {
      "text/html": [
       "<div>\n",
       "<style scoped>\n",
       "    .dataframe tbody tr th:only-of-type {\n",
       "        vertical-align: middle;\n",
       "    }\n",
       "\n",
       "    .dataframe tbody tr th {\n",
       "        vertical-align: top;\n",
       "    }\n",
       "\n",
       "    .dataframe thead th {\n",
       "        text-align: right;\n",
       "    }\n",
       "</style>\n",
       "<table border=\"1\" class=\"dataframe\">\n",
       "  <thead>\n",
       "    <tr style=\"text-align: right;\">\n",
       "      <th></th>\n",
       "      <th>Smoking</th>\n",
       "      <th>Stroke</th>\n",
       "      <th>PhysicalHealth</th>\n",
       "      <th>DiffWalking</th>\n",
       "      <th>Age</th>\n",
       "      <th>Diabetic</th>\n",
       "      <th>PhysicalActivity</th>\n",
       "      <th>GenHealth</th>\n",
       "      <th>KidneyDisease</th>\n",
       "    </tr>\n",
       "    <tr>\n",
       "      <th>HeartDisease</th>\n",
       "      <th></th>\n",
       "      <th></th>\n",
       "      <th></th>\n",
       "      <th></th>\n",
       "      <th></th>\n",
       "      <th></th>\n",
       "      <th></th>\n",
       "      <th></th>\n",
       "      <th></th>\n",
       "    </tr>\n",
       "  </thead>\n",
       "  <tbody>\n",
       "    <tr>\n",
       "      <th>0</th>\n",
       "      <td>292422</td>\n",
       "      <td>292422</td>\n",
       "      <td>292422</td>\n",
       "      <td>292422</td>\n",
       "      <td>292422</td>\n",
       "      <td>292422</td>\n",
       "      <td>292422</td>\n",
       "      <td>292422</td>\n",
       "      <td>292422</td>\n",
       "    </tr>\n",
       "    <tr>\n",
       "      <th>1</th>\n",
       "      <td>27373</td>\n",
       "      <td>27373</td>\n",
       "      <td>27373</td>\n",
       "      <td>27373</td>\n",
       "      <td>27373</td>\n",
       "      <td>27373</td>\n",
       "      <td>27373</td>\n",
       "      <td>27373</td>\n",
       "      <td>27373</td>\n",
       "    </tr>\n",
       "  </tbody>\n",
       "</table>\n",
       "</div>"
      ],
      "text/plain": [
       "              Smoking  Stroke  PhysicalHealth  DiffWalking     Age  Diabetic  \\\n",
       "HeartDisease                                                                   \n",
       "0              292422  292422          292422       292422  292422    292422   \n",
       "1               27373   27373           27373        27373   27373     27373   \n",
       "\n",
       "              PhysicalActivity  GenHealth  KidneyDisease  \n",
       "HeartDisease                                              \n",
       "0                       292422     292422         292422  \n",
       "1                        27373      27373          27373  "
      ]
     },
     "execution_count": 6,
     "metadata": {},
     "output_type": "execute_result"
    }
   ],
   "source": [
    "# Note that data is imbalanced\n",
    "df.groupby('HeartDisease').count()"
   ]
  },
  {
   "cell_type": "markdown",
   "metadata": {},
   "source": [
    "# Proposed Solution\n",
    "\n",
    "Our problem is a classification problem with binary data, and our data set is sufficiently large. We also have many times more observations than variables. Hence we plan to implement and compare the performance of four different machine learning algorithms (Decision tree, KNN, Random forest, and Logistic Regression) using scikit-learn. We will use a pipeline to standardize data before applying logistic regression. Then we split the data into a training and a testing set, and for each algorithm, we will use a grid search on the training set to find the best hyperparameters. Finally, we will test the performance of our best four models on the testing set. "
   ]
  },
  {
   "cell_type": "markdown",
   "metadata": {},
   "source": [
    "# Evaluation Metrics\n",
    "An ideal model will have a higher chance of predicting correctly whether a person has a high risk of heart disease. We consider classification accuracy to be the most important performance measure of our model because it gives a straightforward measurement of how many correct predictions the model made out of all predictions. However, we also notice that heart disease is a rare situation, so our data is imbalanced. We will try to avoid the “accuracy paradox” and keep track of the model’s ability to identify people of high risk by also evaluating our model’s sensitivity, which is defined by the true positives out of all positives. Both accuracy and sensitivity are common evaluation metrics and we will get a sense of which model is better using these two scores. "
   ]
  },
  {
   "cell_type": "markdown",
   "metadata": {},
   "source": [
    "# Results\n",
    "Link to original code: https://github.com/COGS118A/Group045-Sp22/blob/main/Cogs_118A_Final_Project_Code_full.ipynb"
   ]
  },
  {
   "cell_type": "code",
   "execution_count": 2,
   "metadata": {},
   "outputs": [],
   "source": [
    "# imports\n",
    "import numpy as np\n",
    "import pandas as pd\n",
    "import math\n",
    "from sklearn.model_selection import train_test_split\n",
    "from sklearn.tree import DecisionTreeClassifier\n",
    "from sklearn import tree\n",
    "from sklearn.neighbors import KNeighborsClassifier\n",
    "from sklearn.metrics import recall_score, accuracy_score, plot_confusion_matrix\n",
    "from sklearn import metrics\n",
    "import matplotlib.pyplot as plt\n",
    "from sklearn.model_selection import GridSearchCV, cross_val_score, KFold\n",
    "from sklearn.linear_model import LogisticRegression\n",
    "from sklearn.preprocessing import StandardScaler\n",
    "from sklearn.pipeline import Pipeline\n",
    "from sklearn.ensemble import RandomForestClassifier\n",
    "from sklearn.datasets import make_classification\n",
    "from sklearn.metrics import make_scorer, roc_auc_score, mean_squared_error"
   ]
  },
  {
   "cell_type": "code",
   "execution_count": 3,
   "metadata": {},
   "outputs": [],
   "source": [
    "# Split the data into training and testing set\n",
    "X = df.drop(columns=['HeartDisease'])\n",
    "y = df.HeartDisease\n",
    "X_train,X_test,y_train,y_test = train_test_split(X,y,test_size=0.3,random_state=42)"
   ]
  },
  {
   "cell_type": "markdown",
   "metadata": {},
   "source": [
    "### 1. Logistic Regression\n",
    "We first tried without specifying class_weigh, but the resulting model has a very low recall score. We realized that Logistic regression is impacted by class weight balance and non-normal distributed data. Hence, we did a new grid with balanced class weight and used a pipeline to standardize data."
   ]
  },
  {
   "cell_type": "code",
   "execution_count": 10,
   "metadata": {},
   "outputs": [
    {
     "name": "stdout",
     "output_type": "stream",
     "text": [
      "The Best Model is :  Pipeline(steps=[('scaler', StandardScaler()),\n",
      "                ('logistic',\n",
      "                 LogisticRegression(class_weight='balanced', random_state=0,\n",
      "                                    solver='saga'))])\n"
     ]
    }
   ],
   "source": [
    "scaler = StandardScaler()\n",
    "logistic = LogisticRegression(class_weight = 'balanced', random_state = 0)\n",
    "pipe = Pipeline(steps=[(\"scaler\", scaler), (\"logistic\", logistic)])\n",
    "\n",
    "param_grid = {\n",
    "    'logistic__solver': ['saga', 'liblinear'],\n",
    "    'logistic__penalty': ['l1', 'l2']\n",
    "}\n",
    "\n",
    "scorings = ['recall','accuracy']\n",
    "gscv = GridSearchCV(pipe, param_grid, scoring = scorings, refit = 'accuracy').fit(X_train,y_train)\n",
    "\n",
    "print(\"The Best Model is : \", gscv.best_estimator_)"
   ]
  },
  {
   "cell_type": "code",
   "execution_count": 11,
   "metadata": {},
   "outputs": [
    {
     "name": "stdout",
     "output_type": "stream",
     "text": [
      "Accuracy for our testing dataset with tuning is : 73.55%\n",
      "Recall for our testing dataset with tuning is : 76.68%\n"
     ]
    },
    {
     "name": "stderr",
     "output_type": "stream",
     "text": [
      "C:\\Users\\liuyi\\anaconda3\\envs\\EY_env\\lib\\site-packages\\sklearn\\utils\\deprecation.py:87: FutureWarning: Function plot_confusion_matrix is deprecated; Function `plot_confusion_matrix` is deprecated in 1.0 and will be removed in 1.2. Use one of the class methods: ConfusionMatrixDisplay.from_predictions or ConfusionMatrixDisplay.from_estimator.\n",
      "  warnings.warn(msg, category=FutureWarning)\n"
     ]
    },
    {
     "data": {
      "text/plain": [
       "<sklearn.metrics._plot.confusion_matrix.ConfusionMatrixDisplay at 0x192fb13e340>"
      ]
     },
     "execution_count": 11,
     "metadata": {},
     "output_type": "execute_result"
    },
    {
     "data": {
      "image/png": "[encoded data removed]",
      "text/plain": [
       "<Figure size 432x288 with 2 Axes>"
      ]
     },
     "metadata": {
      "needs_background": "light"
     },
     "output_type": "display_data"
    }
   ],
   "source": [
    "# See the model's performance on testing set\n",
    "logistic_model = gscv.best_estimator_.fit(X_train, y_train)\n",
    "y_pred = logistic_model.predict(X_test) \n",
    "test_accuracy = accuracy_score(y_test,y_pred)\n",
    "test_recall = recall_score(y_test, y_pred)\n",
    "print(\"Accuracy for our testing dataset with tuning is : {:.2f}%\".format(test_accuracy*100) )\n",
    "print(\"Recall for our testing dataset with tuning is : {:.2f}%\".format(test_recall*100) )\n",
    "plot_confusion_matrix(logistic_model, X_test, y_test) "
   ]
  },
  {
   "cell_type": "markdown",
   "metadata": {},
   "source": [
    "### 2. KNN\n",
    "We first did a grid search with k ranging from 1 to 35, but we realized that the mean accuracy changes very little after k = 20. Hence for time's sake, we will only search in range 12 to 22 this time. \n",
    "\n",
    "*Result from initial grid search shown in image below. Code at https://github.com/COGS118A/Group045-Sp22/blob/main/Cogs_118A_Final_Project_Code_full.ipynb*\n",
    "\n",
    "![](knn_result.png)"
   ]
  },
  {
   "cell_type": "code",
   "execution_count": 4,
   "metadata": {
    "scrolled": true
   },
   "outputs": [
    {
     "name": "stdout",
     "output_type": "stream",
     "text": [
      "Fitting 5 folds for each of 10 candidates, totalling 50 fits\n",
      "[CV 1/5] END ....................n_neighbors=12;, score=0.915 total time=  14.1s\n",
      "[CV 2/5] END ....................n_neighbors=12;, score=0.915 total time=  11.6s\n",
      "[CV 3/5] END ....................n_neighbors=12;, score=0.914 total time=  12.0s\n",
      "[CV 4/5] END ....................n_neighbors=12;, score=0.914 total time=  14.5s\n",
      "[CV 5/5] END ....................n_neighbors=12;, score=0.915 total time=  14.0s\n",
      "[CV 1/5] END ....................n_neighbors=13;, score=0.914 total time=  14.2s\n",
      "[CV 2/5] END ....................n_neighbors=13;, score=0.914 total time=  14.5s\n",
      "[CV 3/5] END ....................n_neighbors=13;, score=0.913 total time=  14.4s\n",
      "[CV 4/5] END ....................n_neighbors=13;, score=0.913 total time=  15.1s\n",
      "[CV 5/5] END ....................n_neighbors=13;, score=0.914 total time=  14.6s\n",
      "[CV 1/5] END ....................n_neighbors=14;, score=0.915 total time=  14.3s\n",
      "[CV 2/5] END ....................n_neighbors=14;, score=0.914 total time=  15.0s\n",
      "[CV 3/5] END ....................n_neighbors=14;, score=0.914 total time=  14.5s\n",
      "[CV 4/5] END ....................n_neighbors=14;, score=0.914 total time=  14.1s\n",
      "[CV 5/5] END ....................n_neighbors=14;, score=0.915 total time=  14.8s\n",
      "[CV 1/5] END ....................n_neighbors=15;, score=0.913 total time=  14.3s\n",
      "[CV 2/5] END ....................n_neighbors=15;, score=0.914 total time=  14.7s\n",
      "[CV 3/5] END ....................n_neighbors=15;, score=0.913 total time=  14.5s\n",
      "[CV 4/5] END ....................n_neighbors=15;, score=0.913 total time=  14.2s\n",
      "[CV 5/5] END ....................n_neighbors=15;, score=0.913 total time=  14.4s\n",
      "[CV 1/5] END ....................n_neighbors=16;, score=0.914 total time=  15.0s\n",
      "[CV 2/5] END ....................n_neighbors=16;, score=0.914 total time=  15.4s\n",
      "[CV 3/5] END ....................n_neighbors=16;, score=0.915 total time=  14.5s\n",
      "[CV 4/5] END ....................n_neighbors=16;, score=0.914 total time=  14.9s\n",
      "[CV 5/5] END ....................n_neighbors=16;, score=0.914 total time=  14.6s\n",
      "[CV 1/5] END ....................n_neighbors=17;, score=0.914 total time=  14.7s\n",
      "[CV 2/5] END ....................n_neighbors=17;, score=0.914 total time=  14.5s\n",
      "[CV 3/5] END ....................n_neighbors=17;, score=0.913 total time=  14.6s\n",
      "[CV 4/5] END ....................n_neighbors=17;, score=0.914 total time=  14.5s\n",
      "[CV 5/5] END ....................n_neighbors=17;, score=0.913 total time=  14.7s\n",
      "[CV 1/5] END ....................n_neighbors=18;, score=0.914 total time=  15.0s\n",
      "[CV 2/5] END ....................n_neighbors=18;, score=0.915 total time=  15.1s\n",
      "[CV 3/5] END ....................n_neighbors=18;, score=0.913 total time=  14.6s\n",
      "[CV 4/5] END ....................n_neighbors=18;, score=0.914 total time=  14.6s\n",
      "[CV 5/5] END ....................n_neighbors=18;, score=0.914 total time=  14.8s\n",
      "[CV 1/5] END ....................n_neighbors=19;, score=0.914 total time=  14.3s\n",
      "[CV 2/5] END ....................n_neighbors=19;, score=0.914 total time=  15.1s\n",
      "[CV 3/5] END ....................n_neighbors=19;, score=0.913 total time=  14.4s\n",
      "[CV 4/5] END ....................n_neighbors=19;, score=0.913 total time=  14.7s\n",
      "[CV 5/5] END ....................n_neighbors=19;, score=0.914 total time=  14.7s\n",
      "[CV 1/5] END ....................n_neighbors=20;, score=0.915 total time=  15.2s\n",
      "[CV 2/5] END ....................n_neighbors=20;, score=0.915 total time=  15.5s\n",
      "[CV 3/5] END ....................n_neighbors=20;, score=0.914 total time=  14.9s\n",
      "[CV 4/5] END ....................n_neighbors=20;, score=0.914 total time=  14.7s\n",
      "[CV 5/5] END ....................n_neighbors=20;, score=0.915 total time=  14.6s\n",
      "[CV 1/5] END ....................n_neighbors=21;, score=0.915 total time=  15.0s\n",
      "[CV 2/5] END ....................n_neighbors=21;, score=0.914 total time=  15.0s\n",
      "[CV 3/5] END ....................n_neighbors=21;, score=0.913 total time=  14.6s\n",
      "[CV 4/5] END ....................n_neighbors=21;, score=0.914 total time=  15.0s\n",
      "[CV 5/5] END ....................n_neighbors=21;, score=0.914 total time=  14.6s\n",
      "The Best Model is :  KNeighborsClassifier(n_neighbors=20)\n"
     ]
    }
   ],
   "source": [
    "knn = KNeighborsClassifier()\n",
    "k_range = list(range(12, 22))\n",
    "param_grid = dict(n_neighbors=k_range)\n",
    "  \n",
    "# defining parameter range\n",
    "grid = GridSearchCV(knn, param_grid, scoring='accuracy', verbose = 3)\n",
    "  \n",
    "# fitting the model for grid search\n",
    "grid_search = grid.fit(X_train, y_train)\n",
    "print(\"The Best Model is : \", grid.best_estimator_)"
   ]
  },
  {
   "cell_type": "code",
   "execution_count": 5,
   "metadata": {},
   "outputs": [
    {
     "data": {
      "text/plain": [
       "Text(0.5, 1.0, 'Mean Accuracy across different K values')"
      ]
     },
     "execution_count": 5,
     "metadata": {},
     "output_type": "execute_result"
    },
    {
     "data": {
      "image/png": "[encoded data removed]",
      "text/plain": [
       "<Figure size 432x288 with 1 Axes>"
      ]
     },
     "metadata": {
      "needs_background": "light"
     },
     "output_type": "display_data"
    }
   ],
   "source": [
    "# Visualize hyperparam search\n",
    "plt.plot(range(12,22),grid.cv_results_['mean_test_score'])\n",
    "plt.xlabel('K')\n",
    "plt.ylabel('Mean Accuracy')\n",
    "plt.title('Mean Accuracy across different K values')"
   ]
  },
  {
   "cell_type": "markdown",
   "metadata": {},
   "source": [
    "From the plot above, the best K-value for KNN should be 20, because the mean accuracy is similar after 20, and we want to prevent the model from going too complex. "
   ]
  },
  {
   "cell_type": "code",
   "execution_count": 6,
   "metadata": {},
   "outputs": [
    {
     "name": "stdout",
     "output_type": "stream",
     "text": [
      "Accuracy for our testing dataset with tuning is : 91.34%\n",
      "Recall for our testing dataset with tuning is : 3.76%\n"
     ]
    },
    {
     "name": "stderr",
     "output_type": "stream",
     "text": [
      "C:\\Users\\liuyi\\anaconda3\\envs\\EY_env\\lib\\site-packages\\sklearn\\utils\\deprecation.py:87: FutureWarning: Function plot_confusion_matrix is deprecated; Function `plot_confusion_matrix` is deprecated in 1.0 and will be removed in 1.2. Use one of the class methods: ConfusionMatrixDisplay.from_predictions or ConfusionMatrixDisplay.from_estimator.\n",
      "  warnings.warn(msg, category=FutureWarning)\n"
     ]
    },
    {
     "data": {
      "text/plain": [
       "<sklearn.metrics._plot.confusion_matrix.ConfusionMatrixDisplay at 0x192f3de4b80>"
      ]
     },
     "execution_count": 6,
     "metadata": {},
     "output_type": "execute_result"
    },
    {
     "data": {
      "image/png": "[encoded data removed]",
      "text/plain": [
       "<Figure size 432x288 with 2 Axes>"
      ]
     },
     "metadata": {
      "needs_background": "light"
     },
     "output_type": "display_data"
    }
   ],
   "source": [
    "# See the model's performance on testing set\n",
    "knn_model = KNeighborsClassifier(n_neighbors=20).fit(X_train, y_train)\n",
    "y_pred = knn_model.predict(X_test) \n",
    "test_accuracy = accuracy_score(y_test,y_pred)\n",
    "test_recall = recall_score(y_test, y_pred)\n",
    "print(\"Accuracy for our testing dataset with tuning is : {:.2f}%\".format(test_accuracy*100) )\n",
    "print(\"Recall for our testing dataset with tuning is : {:.2f}%\".format(test_recall*100) )\n",
    "plot_confusion_matrix(knn_model, X_test, y_test) "
   ]
  },
  {
   "cell_type": "markdown",
   "metadata": {},
   "source": [
    "### 3. Decision Tree"
   ]
  },
  {
   "cell_type": "code",
   "execution_count": 47,
   "metadata": {
    "scrolled": true
   },
   "outputs": [
    {
     "name": "stdout",
     "output_type": "stream",
     "text": [
      "The Best Model is :  DecisionTreeClassifier(class_weight='balanced', max_depth=2,\n",
      "                       min_samples_leaf=15, random_state=0)\n"
     ]
    }
   ],
   "source": [
    "tree = DecisionTreeClassifier(class_weight='balanced', random_state = 0)\n",
    "parameters = {'max_depth': range(2,12), 'min_samples_leaf':[15,20,25,30]}\n",
    "scorings = ['recall','accuracy']\n",
    "treeGrid = GridSearchCV(tree, parameters, scoring = scorings, refit = 'accuracy').fit(X_train, y_train)\n",
    "print(\"The Best Model is : \", treeGrid.best_estimator_)"
   ]
  },
  {
   "cell_type": "code",
   "execution_count": 50,
   "metadata": {},
   "outputs": [
    {
     "data": {
      "text/plain": [
       "Text(0.5, 1.0, 'Mean Accuracy across different Max Depth')"
      ]
     },
     "execution_count": 50,
     "metadata": {},
     "output_type": "execute_result"
    },
    {
     "data": {
      "image/png": "[encoded data removed]",
      "text/plain": [
       "<Figure size 432x288 with 1 Axes>"
      ]
     },
     "metadata": {
      "needs_background": "light"
     },
     "output_type": "display_data"
    }
   ],
   "source": [
    "# Visualize hyperparam search\n",
    "r = treeGrid.cv_results_['mean_test_accuracy']\n",
    "result = [np.mean(r[i*4:i*4+4]) for i in range(0,10)]\n",
    "plt.plot(range(2,12),result)\n",
    "plt.xlabel('Max Depth')\n",
    "plt.ylabel('Mean Accuracy')\n",
    "plt.title('Mean Accuracy across different Max Depth')"
   ]
  },
  {
   "cell_type": "code",
   "execution_count": 30,
   "metadata": {},
   "outputs": [
    {
     "name": "stdout",
     "output_type": "stream",
     "text": [
      "Accuracy for our testing dataset with tuning is : 72.25%\n",
      "Recall for our testing dataset with tuning is : 70.74%\n"
     ]
    },
    {
     "data": {
      "text/plain": [
       "<sklearn.metrics._plot.confusion_matrix.ConfusionMatrixDisplay at 0x7f2a91988dc0>"
      ]
     },
     "execution_count": 30,
     "metadata": {},
     "output_type": "execute_result"
    },
    {
     "data": {
      "image/png": "[encoded data removed]",
      "text/plain": [
       "<Figure size 432x288 with 2 Axes>"
      ]
     },
     "metadata": {
      "needs_background": "light"
     },
     "output_type": "display_data"
    }
   ],
   "source": [
    "# See the model's performance on testing set\n",
    "tree_model = treeGrid.best_estimator_.fit(X_train, y_train)\n",
    "y_pred = tree_model.predict(X_test) \n",
    "test_accuracy = accuracy_score(y_test,y_pred)\n",
    "test_recall = recall_score(y_test, y_pred)\n",
    "print(\"Accuracy for our testing dataset with tuning is : {:.2f}%\".format(test_accuracy*100) )\n",
    "print(\"Recall for our testing dataset with tuning is : {:.2f}%\".format(test_recall*100) )\n",
    "plot_confusion_matrix(tree_model, X_test, y_test) "
   ]
  },
  {
   "cell_type": "markdown",
   "metadata": {},
   "source": [
    "### 4. Random Forest\n",
    "1. We used a similar grid search with RandomForestClassifier, choosing from max_depth in range(2,12), min_samples_leaf in [15,20,25,30], and n_estimators in [100, 150, 200, 250]. Like the previous algorithms, we used accuracy and recall as scorings, and a default of 5 fold cross validation. \n",
    "\n",
    "    This grid shows that our best estimator is:  RandomForestClassifier(max_depth=8, min_samples_leaf=15, n_estimators=150,random_state=0). However, the output shows that without settng class_weight to 'balanced', the model has a 91.47% test accuracy, but a 4.34% recall. \n",
    "\n",
    "\n",
    "2. Hence, we did a refined grid search with balanced class_weight, choosing from max_depth in range(6, 12), min_samples_leaf in [15,20], and n_estimators in [100, 150, 200]. \n",
    "\n",
    "    This new grid search shows that our best estimator is: RandomForestClassifier(class_weight='balanced', max_depth=12, min_samples_leaf=15, n_estimators=200, random_state=0)\n",
    "\n",
    "The original code and output are at https://github.com/COGS118A/Group045-Sp22/blob/main/Cogs_118A_Final_Project_Code_full.ipynb. "
   ]
  },
  {
   "cell_type": "code",
   "execution_count": 15,
   "metadata": {},
   "outputs": [
    {
     "name": "stdout",
     "output_type": "stream",
     "text": [
      "Accuracy for our testing dataset with tuning is : 72.23%\n",
      "Recall for our testing dataset with tuning is : 78.48%\n"
     ]
    },
    {
     "name": "stderr",
     "output_type": "stream",
     "text": [
      "C:\\Users\\liuyi\\anaconda3\\envs\\EY_env\\lib\\site-packages\\sklearn\\utils\\deprecation.py:87: FutureWarning: Function plot_confusion_matrix is deprecated; Function `plot_confusion_matrix` is deprecated in 1.0 and will be removed in 1.2. Use one of the class methods: ConfusionMatrixDisplay.from_predictions or ConfusionMatrixDisplay.from_estimator.\n",
      "  warnings.warn(msg, category=FutureWarning)\n"
     ]
    },
    {
     "data": {
      "text/plain": [
       "<sklearn.metrics._plot.confusion_matrix.ConfusionMatrixDisplay at 0x192fb14de50>"
      ]
     },
     "execution_count": 15,
     "metadata": {},
     "output_type": "execute_result"
    },
    {
     "data": {
      "image/png": "[encoded data removed]",
      "text/plain": [
       "<Figure size 432x288 with 2 Axes>"
      ]
     },
     "metadata": {
      "needs_background": "light"
     },
     "output_type": "display_data"
    }
   ],
   "source": [
    "# See the Balanced model's performance on testing set\n",
    "forest_model = RandomForestClassifier(class_weight='balanced', max_depth=12, min_samples_leaf=15, n_estimators=200, random_state=0).fit(X_train, y_train)\n",
    "y_pred = forest_model.predict(X_test) \n",
    "test_accuracy = accuracy_score(y_test,y_pred)\n",
    "test_recall = recall_score(y_test, y_pred)\n",
    "print(\"Accuracy for our testing dataset with tuning is : {:.2f}%\".format(test_accuracy*100) )\n",
    "print(\"Recall for our testing dataset with tuning is : {:.2f}%\".format(test_recall*100) )\n",
    "plot_confusion_matrix(forest_model, X_test, y_test) "
   ]
  },
  {
   "cell_type": "markdown",
   "metadata": {},
   "source": [
    "### 5. Comparison\n",
    "The algorithms' performance on the testing set show that without class balancing, KNN generates a very low recall. Logistic Regression, and Rondom Forest all have about 70% accuracy and recall. We now compare the best set of parameters of the last three models using a 10-fold cross validation with all data, and add some more evaluation metrics, including roc_auc, mse, and the fluctuation of these metrices across folds."
   ]
  },
  {
   "cell_type": "code",
   "execution_count": 4,
   "metadata": {},
   "outputs": [],
   "source": [
    "# Our best models\n",
    "best_logistic = Pipeline(steps=[('scaler', StandardScaler()),\n",
    "                                ('logistic',LogisticRegression(class_weight='balanced', random_state=0,solver='saga'))])\n",
    "best_tree = DecisionTreeClassifier(class_weight='balanced', max_depth=2,min_samples_leaf=15, random_state=0)\n",
    "best_forest = RandomForestClassifier(class_weight='balanced', max_depth=12, min_samples_leaf=15, n_estimators=200, random_state=0)"
   ]
  },
  {
   "cell_type": "code",
   "execution_count": 39,
   "metadata": {},
   "outputs": [
    {
     "name": "stdout",
     "output_type": "stream",
     "text": [
      "Mean Accuracy: 73.45 %\n",
      "Standard Deviation: 0.23 %\n",
      "Max Accuracy: 73.97 %\n",
      "mean MSE across folds: 0.2655232313083197  standard deviation of  MSE across folds: 0.0023247822579465383\n",
      "mean roc across folds: 0.7530172334967745  standard deviation of  roc across folds: 0.006105441340513054\n"
     ]
    }
   ],
   "source": [
    "# for Logistic model\n",
    "k = KFold(n_splits=10, random_state=1, shuffle=True)\n",
    "\n",
    "# Make a mean squared error scorer for evaluation\n",
    "mse_scorer = make_scorer(mean_squared_error)\n",
    "rmse_score = cross_val_score(best_logistic, X,y,cv=k, scoring=mse_scorer)\n",
    "\n",
    "# Make a auc_roc scorer for evaluation\n",
    "roc_scorer = make_scorer(roc_auc_score)\n",
    "roc_score = cross_val_score(best_logistic, X, y, cv = k, scoring = roc_scorer)\n",
    "\n",
    "scores = cross_val_score(best_logistic,X,y, cv=k, n_jobs = -1)\n",
    "\n",
    "print(\"Mean Accuracy: {:.2f} %\".format(scores.mean()*100))\n",
    "print(\"Standard Deviation: {:.2f} %\".format(scores.std()*100))\n",
    "print(\"Max Accuracy: {:.2f} %\".format(scores.max()*100))\n",
    "print('mean MSE across folds:', np.mean(rmse_score), ' standard deviation of  MSE across folds:',np.std(rmse_score))\n",
    "print('mean roc across folds:',  np.mean(roc_score), ' standard deviation of  roc across folds:', np.std(roc_score))"
   ]
  },
  {
   "cell_type": "code",
   "execution_count": 40,
   "metadata": {},
   "outputs": [
    {
     "name": "stdout",
     "output_type": "stream",
     "text": [
      "Mean Accuracy: 72.29 %\n",
      "Standard Deviation: 0.24 %\n",
      "Max Accuracy: 72.62 %\n",
      "mean MSE across folds: 0.2770806446600813  standard deviation of  MSE across folds: 0.0023820158577512016\n",
      "mean roc across folds: 0.716951603060406  standard deviation of  roc across folds: 0.006264756062238198\n"
     ]
    }
   ],
   "source": [
    "# for Decision Tree model\n",
    "k = KFold(n_splits=10, random_state=1, shuffle=True)\n",
    "\n",
    "# Make a mean squared error scorer for evaluation\n",
    "mse_scorer = make_scorer(mean_squared_error)\n",
    "rmse_score = cross_val_score(best_tree, X,y,cv=k, scoring=mse_scorer)\n",
    "\n",
    "# Make a auc_roc scorer for evaluation\n",
    "roc_scorer = make_scorer(roc_auc_score)\n",
    "roc_score = cross_val_score(best_tree, X, y, cv = k, scoring = roc_scorer)\n",
    "\n",
    "scores = cross_val_score(best_tree,X,y, cv=k, n_jobs = -1)\n",
    "\n",
    "print(\"Mean Accuracy: {:.2f} %\".format(scores.mean()*100))\n",
    "print(\"Standard Deviation: {:.2f} %\".format(scores.std()*100))\n",
    "print(\"Max Accuracy: {:.2f} %\".format(scores.max()*100))\n",
    "print('mean MSE across folds:', np.mean(rmse_score), ' standard deviation of  MSE across folds:',np.std(rmse_score))\n",
    "print('mean roc across folds:',  np.mean(roc_score), ' standard deviation of  roc across folds:', np.std(roc_score))"
   ]
  },
  {
   "cell_type": "code",
   "execution_count": 5,
   "metadata": {},
   "outputs": [
    {
     "name": "stdout",
     "output_type": "stream",
     "text": [
      "Mean Accuracy: 72.14 %\n",
      "Standard Deviation: 0.39 %\n",
      "Max Accuracy: 72.78 %\n",
      "mean MSE across folds: 0.27860347983601885  standard deviation of  MSE across folds: 0.00387886124851526\n",
      "mean roc across folds: 0.7534741129039446  standard deviation of  roc across folds: 0.006108827211943656\n"
     ]
    }
   ],
   "source": [
    "# for Random Forest model\n",
    "k = KFold(n_splits=10, random_state=1, shuffle=True)\n",
    "\n",
    "# Make a mean squared error scorer for evaluation\n",
    "mse_scorer = make_scorer(mean_squared_error)\n",
    "rmse_score = cross_val_score(best_forest, X,y,cv=k, scoring=mse_scorer)\n",
    "\n",
    "# Make a auc_roc scorer for evaluation\n",
    "roc_scorer = make_scorer(roc_auc_score)\n",
    "roc_score = cross_val_score(best_forest, X, y, cv = k, scoring = roc_scorer)\n",
    "\n",
    "scores = cross_val_score(best_forest,X,y, cv=k, n_jobs = -1)\n",
    "\n",
    "print(\"Mean Accuracy: {:.2f} %\".format(scores.mean()*100))\n",
    "print(\"Standard Deviation: {:.2f} %\".format(scores.std()*100))\n",
    "print(\"Max Accuracy: {:.2f} %\".format(scores.max()*100))\n",
    "print('mean MSE across folds:', np.mean(rmse_score), ' standard deviation of  MSE across folds:',np.std(rmse_score))\n",
    "print('mean roc across folds:',  np.mean(roc_score), ' standard deviation of  roc across folds:', np.std(roc_score))"
   ]
  },
  {
   "cell_type": "markdown",
   "metadata": {},
   "source": [
    "# Discussion\n",
    "\n",
    "### Interpreting the result\n",
    "\n",
    "Based on the performance on testing data, Logistic Regressoin has an accuracy of 73.55% and recall of 76.68%, Decision Tree has an accuracy of \n",
    "72.25% and recall of 70.74%, and Random Forest has an accuracy of 72.23% and recall of 78.48%. Based on the k-fold cross validation, we decide that best_logistic is the best model. It generates around 73.45% accuracy and has a roc for about 75.3%, with the smallest deviation across folds. Although theoretically Random Forest should have higher predictive power, the hyperparameters may be overfit, or it needs some preprocessing. \n",
    "\n",
    "We also notice that in predicting risk for disease, class balance plays a crucial role. In our original grid search, we achieve a high accuracy but with a low recall. There is a tradeoff between having the model preferring 0 class, which produces a high accuracy, and having a higher recall score, which is more practical for real-world application. Selecting algorithms that are resistant to imbalance can have a great impact. \n",
    "\n",
    "### Limitations\n",
    "\n",
    "A possibel improvement is to have a randomized search before applyting grid search to try out a wider range of hyperparameters. Second, we used pearson correlation to select features, but we did not account for practicality in this method. For example, we can use aging to predict risk of heart disease, but we already know it from common knowledge. By using other features, it is possible to investigate the correlation and interaction of more health factors with heart disease. Hence, another possible improvement is to use methods such as PCA and specifying number of features in Random Forest to do feature selection. Third, our data is highly imbalanced, and we tried to account for this by setting class_weight. However, there can be other ways to solve this problem, including getting a large population and sampling the same amount of data for both classes. \n",
    "\n",
    "\n",
    "### Ethics & Privacy\n",
    "\n",
    "The ethics problem is divided into 5 phases: data collection phase, data storage phase, data analysis phase, data modeling phase, and deployment phase.\n",
    "- For the data collection phase, since this dataset was collected by CDC and published for public use, we can assume the collecting agency was held to official standards. We can assume that it could represent the population in the US, and it does not have a strong collecting bias. \n",
    "- For the data storage phase, first of all, since this is a public data collection, we do not need to consider the data privacy problem. Also, since this is the data collected in 2020, we also do not need to be concerned about the problem of the updated data, since the update was already fixed.\n",
    "- For the data analysis phase, the data itself could lead to some kind of biases against a specific group of people. We will try our best to reduce such biases by doing visualizations and observations to supervise the learning process.\n",
    "- For the data modeling phase, the models we generate might also have prediction bias against specific groups of data. We will make use of the best unbiased model for our prediction to suppress such bias. \n",
    "- For the deployment phase, some of our models might be used for future prediction which generate prediction bias. We will address this problem at the end of our model build. \n",
    "\n",
    "### Conclusion\n",
    "\n",
    "We built classification models that predict whether or not someone has heart disease based on their health status and ethnographic data. We cleaned the 2020 CDC survey data of 400k adults and choose features including Smoking, Stroke, PhysicalHealth, DiffWalking, AgeCategory,Diabetic, PhysicalActivity, GenHealth, and KidneyDisease. We split the data into training and testing set, and used gridsearch with four algorithms (Logistic Regression, KNN, Decision Tree, Random Forest) to find four sets of best hyperparameters. While tuning the hyperparameters, we noticed a tradeoff between higher accuracy and better real world application. After comparing their accuracy and recall on test set, we ruled out KNN because it does not fit well for our unbalanced dataset. We then used a 10-fold cross validation with roc_auc and mse as additional metrics, and eventually selected logistic regression as the best model. It generates around 73.45% accuracy and has a roc for about 75.3% with the smallest standard deviation across folds. Further steps can be taken to improve our project, including searching for a wider range of hyperparameters, trying out more feature selection methods, and dealing with class imbalance in other ways. "
   ]
  },
  {
   "cell_type": "markdown",
   "metadata": {},
   "source": [
    "# Footnotes\n",
    "<a name=\"ha1note\"></a>1.[^](#ha1): https://heart.bmj.com/content/107/13/1084<br> \n",
    "\n",
    "<a name=\"sotanote\"></a>2.[^](#sota): https://physicsworld.com/a/machine-learning-and-advanced-imaging-improve-prediction-of-heart-attacks/"
   ]
  }
 ],
 "metadata": {
  "kernelspec": {
   "display_name": "Python [conda env:EY_env]",
   "language": "python",
   "name": "conda-env-EY_env-py"
  },
  "language_info": {
   "codemirror_mode": {
    "name": "ipython",
    "version": 3
   },
   "file_extension": ".py",
   "mimetype": "text/x-python",
   "name": "python",
   "nbconvert_exporter": "python",
   "pygments_lexer": "ipython3",
   "version": "3.9.12"
  }
 },
 "nbformat": 4,
 "nbformat_minor": 2
}

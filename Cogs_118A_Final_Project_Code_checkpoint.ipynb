{
 "cells": [
  {
   "cell_type": "markdown",
   "metadata": {
    "colab": {
     "base_uri": "https://localhost:8080/"
    },
    "id": "9Ag32X2B98QN",
    "outputId": "6873cc6b-138e-4b16-82ea-0523cead07b0"
   },
   "source": [
    "## COGS 118A project Code "
   ]
  },
  {
   "cell_type": "code",
   "execution_count": 1,
   "metadata": {},
   "outputs": [
    {
     "data": {
      "text/plain": [
       "Ellipsis"
      ]
     },
     "execution_count": 1,
     "metadata": {},
     "output_type": "execute_result"
    }
   ],
   "source": [
    "import numpy as np\n",
    "import pandas as pd\n",
    "import math\n",
    "from sklearn.model_selection import train_test_split\n",
    "...\n"
   ]
  },
  {
   "cell_type": "markdown",
   "metadata": {
    "id": "OoAzWoUvwdMK"
   },
   "source": [
    "## Data Import"
   ]
  },
  {
   "cell_type": "code",
   "execution_count": 2,
   "metadata": {
    "id": "2dhpKAL-wb41"
   },
   "outputs": [],
   "source": [
    "df = pd.read_csv(\"https://raw.githubusercontent.com/COGS118A/Group045-Sp22/main/heart_2020_cleaned.csv\")"
   ]
  },
  {
   "cell_type": "code",
   "execution_count": 3,
   "metadata": {
    "colab": {
     "base_uri": "https://localhost:8080/",
     "height": 270
    },
    "id": "zFcNvr5xwlhW",
    "outputId": "ee9068a8-0d3d-4846-a3ce-e35a951626cb"
   },
   "outputs": [
    {
     "data": {
      "text/html": [
       "<div>\n",
       "<style scoped>\n",
       "    .dataframe tbody tr th:only-of-type {\n",
       "        vertical-align: middle;\n",
       "    }\n",
       "\n",
       "    .dataframe tbody tr th {\n",
       "        vertical-align: top;\n",
       "    }\n",
       "\n",
       "    .dataframe thead th {\n",
       "        text-align: right;\n",
       "    }\n",
       "</style>\n",
       "<table border=\"1\" class=\"dataframe\">\n",
       "  <thead>\n",
       "    <tr style=\"text-align: right;\">\n",
       "      <th></th>\n",
       "      <th>HeartDisease</th>\n",
       "      <th>BMI</th>\n",
       "      <th>Smoking</th>\n",
       "      <th>AlcoholDrinking</th>\n",
       "      <th>Stroke</th>\n",
       "      <th>PhysicalHealth</th>\n",
       "      <th>MentalHealth</th>\n",
       "      <th>DiffWalking</th>\n",
       "      <th>Sex</th>\n",
       "      <th>AgeCategory</th>\n",
       "      <th>Race</th>\n",
       "      <th>Diabetic</th>\n",
       "      <th>PhysicalActivity</th>\n",
       "      <th>GenHealth</th>\n",
       "      <th>SleepTime</th>\n",
       "      <th>Asthma</th>\n",
       "      <th>KidneyDisease</th>\n",
       "      <th>SkinCancer</th>\n",
       "    </tr>\n",
       "  </thead>\n",
       "  <tbody>\n",
       "    <tr>\n",
       "      <th>0</th>\n",
       "      <td>No</td>\n",
       "      <td>16.60</td>\n",
       "      <td>Yes</td>\n",
       "      <td>No</td>\n",
       "      <td>No</td>\n",
       "      <td>3.0</td>\n",
       "      <td>30.0</td>\n",
       "      <td>No</td>\n",
       "      <td>Female</td>\n",
       "      <td>55-59</td>\n",
       "      <td>White</td>\n",
       "      <td>Yes</td>\n",
       "      <td>Yes</td>\n",
       "      <td>Very good</td>\n",
       "      <td>5.0</td>\n",
       "      <td>Yes</td>\n",
       "      <td>No</td>\n",
       "      <td>Yes</td>\n",
       "    </tr>\n",
       "    <tr>\n",
       "      <th>1</th>\n",
       "      <td>No</td>\n",
       "      <td>20.34</td>\n",
       "      <td>No</td>\n",
       "      <td>No</td>\n",
       "      <td>Yes</td>\n",
       "      <td>0.0</td>\n",
       "      <td>0.0</td>\n",
       "      <td>No</td>\n",
       "      <td>Female</td>\n",
       "      <td>80 or older</td>\n",
       "      <td>White</td>\n",
       "      <td>No</td>\n",
       "      <td>Yes</td>\n",
       "      <td>Very good</td>\n",
       "      <td>7.0</td>\n",
       "      <td>No</td>\n",
       "      <td>No</td>\n",
       "      <td>No</td>\n",
       "    </tr>\n",
       "    <tr>\n",
       "      <th>2</th>\n",
       "      <td>No</td>\n",
       "      <td>26.58</td>\n",
       "      <td>Yes</td>\n",
       "      <td>No</td>\n",
       "      <td>No</td>\n",
       "      <td>20.0</td>\n",
       "      <td>30.0</td>\n",
       "      <td>No</td>\n",
       "      <td>Male</td>\n",
       "      <td>65-69</td>\n",
       "      <td>White</td>\n",
       "      <td>Yes</td>\n",
       "      <td>Yes</td>\n",
       "      <td>Fair</td>\n",
       "      <td>8.0</td>\n",
       "      <td>Yes</td>\n",
       "      <td>No</td>\n",
       "      <td>No</td>\n",
       "    </tr>\n",
       "    <tr>\n",
       "      <th>3</th>\n",
       "      <td>No</td>\n",
       "      <td>24.21</td>\n",
       "      <td>No</td>\n",
       "      <td>No</td>\n",
       "      <td>No</td>\n",
       "      <td>0.0</td>\n",
       "      <td>0.0</td>\n",
       "      <td>No</td>\n",
       "      <td>Female</td>\n",
       "      <td>75-79</td>\n",
       "      <td>White</td>\n",
       "      <td>No</td>\n",
       "      <td>No</td>\n",
       "      <td>Good</td>\n",
       "      <td>6.0</td>\n",
       "      <td>No</td>\n",
       "      <td>No</td>\n",
       "      <td>Yes</td>\n",
       "    </tr>\n",
       "    <tr>\n",
       "      <th>4</th>\n",
       "      <td>No</td>\n",
       "      <td>23.71</td>\n",
       "      <td>No</td>\n",
       "      <td>No</td>\n",
       "      <td>No</td>\n",
       "      <td>28.0</td>\n",
       "      <td>0.0</td>\n",
       "      <td>Yes</td>\n",
       "      <td>Female</td>\n",
       "      <td>40-44</td>\n",
       "      <td>White</td>\n",
       "      <td>No</td>\n",
       "      <td>Yes</td>\n",
       "      <td>Very good</td>\n",
       "      <td>8.0</td>\n",
       "      <td>No</td>\n",
       "      <td>No</td>\n",
       "      <td>No</td>\n",
       "    </tr>\n",
       "  </tbody>\n",
       "</table>\n",
       "</div>"
      ],
      "text/plain": [
       "  HeartDisease    BMI Smoking AlcoholDrinking Stroke  PhysicalHealth  \\\n",
       "0           No  16.60     Yes              No     No             3.0   \n",
       "1           No  20.34      No              No    Yes             0.0   \n",
       "2           No  26.58     Yes              No     No            20.0   \n",
       "3           No  24.21      No              No     No             0.0   \n",
       "4           No  23.71      No              No     No            28.0   \n",
       "\n",
       "   MentalHealth DiffWalking     Sex  AgeCategory   Race Diabetic  \\\n",
       "0          30.0          No  Female        55-59  White      Yes   \n",
       "1           0.0          No  Female  80 or older  White       No   \n",
       "2          30.0          No    Male        65-69  White      Yes   \n",
       "3           0.0          No  Female        75-79  White       No   \n",
       "4           0.0         Yes  Female        40-44  White       No   \n",
       "\n",
       "  PhysicalActivity  GenHealth  SleepTime Asthma KidneyDisease SkinCancer  \n",
       "0              Yes  Very good        5.0    Yes            No        Yes  \n",
       "1              Yes  Very good        7.0     No            No         No  \n",
       "2              Yes       Fair        8.0    Yes            No         No  \n",
       "3               No       Good        6.0     No            No        Yes  \n",
       "4              Yes  Very good        8.0     No            No         No  "
      ]
     },
     "execution_count": 3,
     "metadata": {},
     "output_type": "execute_result"
    }
   ],
   "source": [
    "#First Glance of the dataset\n",
    "df.head()"
   ]
  },
  {
   "cell_type": "markdown",
   "metadata": {
    "id": "fwLn5Ei8wm0x"
   },
   "source": [
    "## Data Visuallization & Cleaning"
   ]
  },
  {
   "cell_type": "code",
   "execution_count": 4,
   "metadata": {
    "colab": {
     "base_uri": "https://localhost:8080/"
    },
    "id": "iMGAycYexj2D",
    "outputId": "fd29ec44-7c64-4ccc-f13d-663652b394a1"
   },
   "outputs": [
    {
     "data": {
      "text/plain": [
       "HeartDisease        0\n",
       "BMI                 0\n",
       "Smoking             0\n",
       "AlcoholDrinking     0\n",
       "Stroke              0\n",
       "PhysicalHealth      0\n",
       "MentalHealth        0\n",
       "DiffWalking         0\n",
       "Sex                 0\n",
       "AgeCategory         0\n",
       "Race                0\n",
       "Diabetic            0\n",
       "PhysicalActivity    0\n",
       "GenHealth           0\n",
       "SleepTime           0\n",
       "Asthma              0\n",
       "KidneyDisease       0\n",
       "SkinCancer          0\n",
       "dtype: int64"
      ]
     },
     "execution_count": 4,
     "metadata": {},
     "output_type": "execute_result"
    }
   ],
   "source": [
    "#Check if there's any missing data in the dataset\n",
    "df.isnull().sum()"
   ]
  },
  {
   "cell_type": "markdown",
   "metadata": {},
   "source": [
    "The section below reshapes data into numerical values and get rid of the ranged values "
   ]
  },
  {
   "cell_type": "code",
   "execution_count": 5,
   "metadata": {
    "colab": {
     "base_uri": "https://localhost:8080/",
     "height": 334
    },
    "id": "mTQGQRBYKp-n",
    "outputId": "3ed11418-91af-4759-83aa-75ba5b92909e"
   },
   "outputs": [
    {
     "data": {
      "text/html": [
       "<div>\n",
       "<style scoped>\n",
       "    .dataframe tbody tr th:only-of-type {\n",
       "        vertical-align: middle;\n",
       "    }\n",
       "\n",
       "    .dataframe tbody tr th {\n",
       "        vertical-align: top;\n",
       "    }\n",
       "\n",
       "    .dataframe thead th {\n",
       "        text-align: right;\n",
       "    }\n",
       "</style>\n",
       "<table border=\"1\" class=\"dataframe\">\n",
       "  <thead>\n",
       "    <tr style=\"text-align: right;\">\n",
       "      <th></th>\n",
       "      <th>HeartDisease</th>\n",
       "      <th>BMI</th>\n",
       "      <th>Smoking</th>\n",
       "      <th>AlcoholDrinking</th>\n",
       "      <th>Stroke</th>\n",
       "      <th>PhysicalHealth</th>\n",
       "      <th>MentalHealth</th>\n",
       "      <th>DiffWalking</th>\n",
       "      <th>Sex</th>\n",
       "      <th>Age</th>\n",
       "      <th>...</th>\n",
       "      <th>SleepTime</th>\n",
       "      <th>Asthma</th>\n",
       "      <th>KidneyDisease</th>\n",
       "      <th>SkinCancer</th>\n",
       "      <th>American Indian/Alaskan Native</th>\n",
       "      <th>Asian</th>\n",
       "      <th>Black</th>\n",
       "      <th>Hispanic</th>\n",
       "      <th>Other</th>\n",
       "      <th>White</th>\n",
       "    </tr>\n",
       "  </thead>\n",
       "  <tbody>\n",
       "    <tr>\n",
       "      <th>0</th>\n",
       "      <td>0</td>\n",
       "      <td>16.60</td>\n",
       "      <td>1</td>\n",
       "      <td>0</td>\n",
       "      <td>0</td>\n",
       "      <td>3.0</td>\n",
       "      <td>30.0</td>\n",
       "      <td>0</td>\n",
       "      <td>0</td>\n",
       "      <td>55</td>\n",
       "      <td>...</td>\n",
       "      <td>5.0</td>\n",
       "      <td>1</td>\n",
       "      <td>0</td>\n",
       "      <td>1</td>\n",
       "      <td>0</td>\n",
       "      <td>0</td>\n",
       "      <td>0</td>\n",
       "      <td>0</td>\n",
       "      <td>0</td>\n",
       "      <td>1</td>\n",
       "    </tr>\n",
       "    <tr>\n",
       "      <th>1</th>\n",
       "      <td>0</td>\n",
       "      <td>20.34</td>\n",
       "      <td>0</td>\n",
       "      <td>0</td>\n",
       "      <td>1</td>\n",
       "      <td>0.0</td>\n",
       "      <td>0.0</td>\n",
       "      <td>0</td>\n",
       "      <td>0</td>\n",
       "      <td>80</td>\n",
       "      <td>...</td>\n",
       "      <td>7.0</td>\n",
       "      <td>0</td>\n",
       "      <td>0</td>\n",
       "      <td>0</td>\n",
       "      <td>0</td>\n",
       "      <td>0</td>\n",
       "      <td>0</td>\n",
       "      <td>0</td>\n",
       "      <td>0</td>\n",
       "      <td>1</td>\n",
       "    </tr>\n",
       "    <tr>\n",
       "      <th>2</th>\n",
       "      <td>0</td>\n",
       "      <td>26.58</td>\n",
       "      <td>1</td>\n",
       "      <td>0</td>\n",
       "      <td>0</td>\n",
       "      <td>20.0</td>\n",
       "      <td>30.0</td>\n",
       "      <td>0</td>\n",
       "      <td>1</td>\n",
       "      <td>65</td>\n",
       "      <td>...</td>\n",
       "      <td>8.0</td>\n",
       "      <td>1</td>\n",
       "      <td>0</td>\n",
       "      <td>0</td>\n",
       "      <td>0</td>\n",
       "      <td>0</td>\n",
       "      <td>0</td>\n",
       "      <td>0</td>\n",
       "      <td>0</td>\n",
       "      <td>1</td>\n",
       "    </tr>\n",
       "    <tr>\n",
       "      <th>3</th>\n",
       "      <td>0</td>\n",
       "      <td>24.21</td>\n",
       "      <td>0</td>\n",
       "      <td>0</td>\n",
       "      <td>0</td>\n",
       "      <td>0.0</td>\n",
       "      <td>0.0</td>\n",
       "      <td>0</td>\n",
       "      <td>0</td>\n",
       "      <td>75</td>\n",
       "      <td>...</td>\n",
       "      <td>6.0</td>\n",
       "      <td>0</td>\n",
       "      <td>0</td>\n",
       "      <td>1</td>\n",
       "      <td>0</td>\n",
       "      <td>0</td>\n",
       "      <td>0</td>\n",
       "      <td>0</td>\n",
       "      <td>0</td>\n",
       "      <td>1</td>\n",
       "    </tr>\n",
       "    <tr>\n",
       "      <th>4</th>\n",
       "      <td>0</td>\n",
       "      <td>23.71</td>\n",
       "      <td>0</td>\n",
       "      <td>0</td>\n",
       "      <td>0</td>\n",
       "      <td>28.0</td>\n",
       "      <td>0.0</td>\n",
       "      <td>1</td>\n",
       "      <td>0</td>\n",
       "      <td>40</td>\n",
       "      <td>...</td>\n",
       "      <td>8.0</td>\n",
       "      <td>0</td>\n",
       "      <td>0</td>\n",
       "      <td>0</td>\n",
       "      <td>0</td>\n",
       "      <td>0</td>\n",
       "      <td>0</td>\n",
       "      <td>0</td>\n",
       "      <td>0</td>\n",
       "      <td>1</td>\n",
       "    </tr>\n",
       "  </tbody>\n",
       "</table>\n",
       "<p>5 rows × 23 columns</p>\n",
       "</div>"
      ],
      "text/plain": [
       "   HeartDisease    BMI  Smoking  AlcoholDrinking  Stroke  PhysicalHealth  \\\n",
       "0             0  16.60        1                0       0             3.0   \n",
       "1             0  20.34        0                0       1             0.0   \n",
       "2             0  26.58        1                0       0            20.0   \n",
       "3             0  24.21        0                0       0             0.0   \n",
       "4             0  23.71        0                0       0            28.0   \n",
       "\n",
       "   MentalHealth  DiffWalking  Sex  Age  ...  SleepTime  Asthma  KidneyDisease  \\\n",
       "0          30.0            0    0   55  ...        5.0       1              0   \n",
       "1           0.0            0    0   80  ...        7.0       0              0   \n",
       "2          30.0            0    1   65  ...        8.0       1              0   \n",
       "3           0.0            0    0   75  ...        6.0       0              0   \n",
       "4           0.0            1    0   40  ...        8.0       0              0   \n",
       "\n",
       "   SkinCancer  American Indian/Alaskan Native  Asian  Black  Hispanic  Other  \\\n",
       "0           1                               0      0      0         0      0   \n",
       "1           0                               0      0      0         0      0   \n",
       "2           0                               0      0      0         0      0   \n",
       "3           1                               0      0      0         0      0   \n",
       "4           0                               0      0      0         0      0   \n",
       "\n",
       "   White  \n",
       "0      1  \n",
       "1      1  \n",
       "2      1  \n",
       "3      1  \n",
       "4      1  \n",
       "\n",
       "[5 rows x 23 columns]"
      ]
     },
     "execution_count": 5,
     "metadata": {},
     "output_type": "execute_result"
    }
   ],
   "source": [
    "df = df.rename(columns={'AgeCategory': 'Age'})\n",
    "df = df.replace({'Yes': 1, 'No': 0})\n",
    "df['Sex'] = df['Sex'].replace({'Male': 1, 'Female': 0})\n",
    "df['Diabetic']=df['Diabetic'].replace({'Yes (during pregnancy)': 1})\n",
    "df['Diabetic']=df['Diabetic'].replace({'No, borderline diabetes': 0})\n",
    "df[\"Age\"] = df[\"Age\"].replace({'55-59': 55, '80 or older': 80, '65-69': 65, \n",
    "                               '75-79': 75, '40-44': 40, '70-74': 70, \n",
    "                               '60-64': 60, '50-54': 50, '45-49': 45, \n",
    "                               '18-24': 18, '35-39': 35, '30-34': 30, \n",
    "                               '25-29': 25})\n",
    "df = pd.concat([df,pd.get_dummies(df['Race'])], axis=1)\n",
    "df = df.drop(columns=['Race'])\n",
    "df['GenHealth'] = df['GenHealth'].replace({'Very good': 3, 'Poor': 0, \n",
    "                                           'Fair': 1, 'Good': 2, 'Excellent': 4})\n",
    "df.head()"
   ]
  },
  {
   "cell_type": "markdown",
   "metadata": {},
   "source": [
    "Then we check the correlation of all features against the HeartDisease "
   ]
  },
  {
   "cell_type": "code",
   "execution_count": 6,
   "metadata": {
    "colab": {
     "base_uri": "https://localhost:8080/"
    },
    "id": "joT1ptAgHHZ-",
    "outputId": "290fb044-766a-4dcb-81c4-55e4747a1ff3"
   },
   "outputs": [
    {
     "data": {
      "text/plain": [
       "HeartDisease                      1.000000\n",
       "BMI                               0.051803\n",
       "Smoking                           0.107764\n",
       "AlcoholDrinking                  -0.032080\n",
       "Stroke                            0.196835\n",
       "PhysicalHealth                    0.170721\n",
       "MentalHealth                      0.028591\n",
       "DiffWalking                       0.201258\n",
       "Sex                               0.070040\n",
       "Age                               0.232325\n",
       "Diabetic                          0.174782\n",
       "PhysicalActivity                 -0.100030\n",
       "GenHealth                        -0.243182\n",
       "SleepTime                         0.008327\n",
       "Asthma                            0.041444\n",
       "KidneyDisease                     0.145197\n",
       "SkinCancer                        0.093317\n",
       "American Indian/Alaskan Native    0.008547\n",
       "Asian                            -0.030262\n",
       "Black                            -0.010156\n",
       "Hispanic                         -0.036163\n",
       "Other                            -0.003039\n",
       "White                             0.040121\n",
       "Name: HeartDisease, dtype: float64"
      ]
     },
     "execution_count": 6,
     "metadata": {},
     "output_type": "execute_result"
    }
   ],
   "source": [
    "df.corr()['HeartDisease']"
   ]
  },
  {
   "cell_type": "markdown",
   "metadata": {
    "id": "C7bgQSthrsfB"
   },
   "source": [
    "From here we will reduce the dimensions by deleting features that has less than 0.1 correlation with HeartDisease "
   ]
  },
  {
   "cell_type": "code",
   "execution_count": 7,
   "metadata": {
    "id": "IxTPtTC-gtC5"
   },
   "outputs": [],
   "source": [
    "df = df.drop(columns=['BMI', 'AlcoholDrinking', 'MentalHealth', 'Sex', \n",
    "                      'SleepTime', 'Asthma', 'SkinCancer', \n",
    "                      'American Indian/Alaskan Native', 'Asian', 'Black',\n",
    "                      'Hispanic', 'Other', 'White'])"
   ]
  },
  {
   "cell_type": "markdown",
   "metadata": {},
   "source": [
    "So here is our data after cleaning process"
   ]
  },
  {
   "cell_type": "code",
   "execution_count": 9,
   "metadata": {
    "colab": {
     "base_uri": "https://localhost:8080/",
     "height": 424
    },
    "id": "l86IomUAs4wW",
    "outputId": "9b5b4f67-0fe2-456f-d00e-ae217a398267"
   },
   "outputs": [
    {
     "data": {
      "text/html": [
       "<div>\n",
       "<style scoped>\n",
       "    .dataframe tbody tr th:only-of-type {\n",
       "        vertical-align: middle;\n",
       "    }\n",
       "\n",
       "    .dataframe tbody tr th {\n",
       "        vertical-align: top;\n",
       "    }\n",
       "\n",
       "    .dataframe thead th {\n",
       "        text-align: right;\n",
       "    }\n",
       "</style>\n",
       "<table border=\"1\" class=\"dataframe\">\n",
       "  <thead>\n",
       "    <tr style=\"text-align: right;\">\n",
       "      <th></th>\n",
       "      <th>HeartDisease</th>\n",
       "      <th>Smoking</th>\n",
       "      <th>Stroke</th>\n",
       "      <th>PhysicalHealth</th>\n",
       "      <th>DiffWalking</th>\n",
       "      <th>Age</th>\n",
       "      <th>Diabetic</th>\n",
       "      <th>PhysicalActivity</th>\n",
       "      <th>GenHealth</th>\n",
       "      <th>KidneyDisease</th>\n",
       "    </tr>\n",
       "  </thead>\n",
       "  <tbody>\n",
       "    <tr>\n",
       "      <th>0</th>\n",
       "      <td>0</td>\n",
       "      <td>1</td>\n",
       "      <td>0</td>\n",
       "      <td>3.0</td>\n",
       "      <td>0</td>\n",
       "      <td>55</td>\n",
       "      <td>1</td>\n",
       "      <td>1</td>\n",
       "      <td>3</td>\n",
       "      <td>0</td>\n",
       "    </tr>\n",
       "    <tr>\n",
       "      <th>1</th>\n",
       "      <td>0</td>\n",
       "      <td>0</td>\n",
       "      <td>1</td>\n",
       "      <td>0.0</td>\n",
       "      <td>0</td>\n",
       "      <td>80</td>\n",
       "      <td>0</td>\n",
       "      <td>1</td>\n",
       "      <td>3</td>\n",
       "      <td>0</td>\n",
       "    </tr>\n",
       "    <tr>\n",
       "      <th>2</th>\n",
       "      <td>0</td>\n",
       "      <td>1</td>\n",
       "      <td>0</td>\n",
       "      <td>20.0</td>\n",
       "      <td>0</td>\n",
       "      <td>65</td>\n",
       "      <td>1</td>\n",
       "      <td>1</td>\n",
       "      <td>1</td>\n",
       "      <td>0</td>\n",
       "    </tr>\n",
       "    <tr>\n",
       "      <th>3</th>\n",
       "      <td>0</td>\n",
       "      <td>0</td>\n",
       "      <td>0</td>\n",
       "      <td>0.0</td>\n",
       "      <td>0</td>\n",
       "      <td>75</td>\n",
       "      <td>0</td>\n",
       "      <td>0</td>\n",
       "      <td>2</td>\n",
       "      <td>0</td>\n",
       "    </tr>\n",
       "    <tr>\n",
       "      <th>4</th>\n",
       "      <td>0</td>\n",
       "      <td>0</td>\n",
       "      <td>0</td>\n",
       "      <td>28.0</td>\n",
       "      <td>1</td>\n",
       "      <td>40</td>\n",
       "      <td>0</td>\n",
       "      <td>1</td>\n",
       "      <td>3</td>\n",
       "      <td>0</td>\n",
       "    </tr>\n",
       "    <tr>\n",
       "      <th>...</th>\n",
       "      <td>...</td>\n",
       "      <td>...</td>\n",
       "      <td>...</td>\n",
       "      <td>...</td>\n",
       "      <td>...</td>\n",
       "      <td>...</td>\n",
       "      <td>...</td>\n",
       "      <td>...</td>\n",
       "      <td>...</td>\n",
       "      <td>...</td>\n",
       "    </tr>\n",
       "    <tr>\n",
       "      <th>319790</th>\n",
       "      <td>1</td>\n",
       "      <td>1</td>\n",
       "      <td>0</td>\n",
       "      <td>7.0</td>\n",
       "      <td>1</td>\n",
       "      <td>60</td>\n",
       "      <td>1</td>\n",
       "      <td>0</td>\n",
       "      <td>1</td>\n",
       "      <td>0</td>\n",
       "    </tr>\n",
       "    <tr>\n",
       "      <th>319791</th>\n",
       "      <td>0</td>\n",
       "      <td>1</td>\n",
       "      <td>0</td>\n",
       "      <td>0.0</td>\n",
       "      <td>0</td>\n",
       "      <td>35</td>\n",
       "      <td>0</td>\n",
       "      <td>1</td>\n",
       "      <td>3</td>\n",
       "      <td>0</td>\n",
       "    </tr>\n",
       "    <tr>\n",
       "      <th>319792</th>\n",
       "      <td>0</td>\n",
       "      <td>0</td>\n",
       "      <td>0</td>\n",
       "      <td>0.0</td>\n",
       "      <td>0</td>\n",
       "      <td>45</td>\n",
       "      <td>0</td>\n",
       "      <td>1</td>\n",
       "      <td>2</td>\n",
       "      <td>0</td>\n",
       "    </tr>\n",
       "    <tr>\n",
       "      <th>319793</th>\n",
       "      <td>0</td>\n",
       "      <td>0</td>\n",
       "      <td>0</td>\n",
       "      <td>0.0</td>\n",
       "      <td>0</td>\n",
       "      <td>25</td>\n",
       "      <td>0</td>\n",
       "      <td>0</td>\n",
       "      <td>2</td>\n",
       "      <td>0</td>\n",
       "    </tr>\n",
       "    <tr>\n",
       "      <th>319794</th>\n",
       "      <td>0</td>\n",
       "      <td>0</td>\n",
       "      <td>0</td>\n",
       "      <td>0.0</td>\n",
       "      <td>0</td>\n",
       "      <td>80</td>\n",
       "      <td>0</td>\n",
       "      <td>1</td>\n",
       "      <td>2</td>\n",
       "      <td>0</td>\n",
       "    </tr>\n",
       "  </tbody>\n",
       "</table>\n",
       "<p>319795 rows × 10 columns</p>\n",
       "</div>"
      ],
      "text/plain": [
       "        HeartDisease  Smoking  Stroke  PhysicalHealth  DiffWalking  Age  \\\n",
       "0                  0        1       0             3.0            0   55   \n",
       "1                  0        0       1             0.0            0   80   \n",
       "2                  0        1       0            20.0            0   65   \n",
       "3                  0        0       0             0.0            0   75   \n",
       "4                  0        0       0            28.0            1   40   \n",
       "...              ...      ...     ...             ...          ...  ...   \n",
       "319790             1        1       0             7.0            1   60   \n",
       "319791             0        1       0             0.0            0   35   \n",
       "319792             0        0       0             0.0            0   45   \n",
       "319793             0        0       0             0.0            0   25   \n",
       "319794             0        0       0             0.0            0   80   \n",
       "\n",
       "        Diabetic  PhysicalActivity  GenHealth  KidneyDisease  \n",
       "0              1                 1          3              0  \n",
       "1              0                 1          3              0  \n",
       "2              1                 1          1              0  \n",
       "3              0                 0          2              0  \n",
       "4              0                 1          3              0  \n",
       "...          ...               ...        ...            ...  \n",
       "319790         1                 0          1              0  \n",
       "319791         0                 1          3              0  \n",
       "319792         0                 1          2              0  \n",
       "319793         0                 0          2              0  \n",
       "319794         0                 1          2              0  \n",
       "\n",
       "[319795 rows x 10 columns]"
      ]
     },
     "execution_count": 9,
     "metadata": {},
     "output_type": "execute_result"
    }
   ],
   "source": [
    "df"
   ]
  },
  {
   "cell_type": "markdown",
   "metadata": {
    "id": "xOmore_nwupg"
   },
   "source": [
    "# Model Code"
   ]
  },
  {
   "cell_type": "markdown",
   "metadata": {},
   "source": [
    "## Decision Tree"
   ]
  },
  {
   "cell_type": "code",
   "execution_count": 13,
   "metadata": {
    "id": "FjXWFOYWz5Em"
   },
   "outputs": [],
   "source": [
    "import numpy as np\n",
    "import pandas as pd\n",
    "import math\n",
    "from sklearn.model_selection import train_test_split\n",
    "from sklearn.tree import DecisionTreeClassifier\n",
    "from sklearn import tree\n",
    "from sklearn.neighbors import KNeighborsClassifier\n",
    "from sklearn import metrics\n",
    "import matplotlib.pyplot as plt\n",
    "from sklearn.model_selection import GridSearchCV\n"
   ]
  },
  {
   "cell_type": "code",
   "execution_count": 14,
   "metadata": {
    "id": "vIbfsD3eyo03"
   },
   "outputs": [],
   "source": [
    "X = df.drop(columns=['HeartDisease'])\n",
    "y = df.HeartDisease\n",
    "X_train,X_test,y_train,y_test = train_test_split(X,y,test_size=0.3,random_state=42)"
   ]
  },
  {
   "cell_type": "code",
   "execution_count": 15,
   "metadata": {
    "colab": {
     "base_uri": "https://localhost:8080/",
     "height": 143
    },
    "id": "CLAuF24UHGft",
    "outputId": "537401ac-39b7-4192-9c62-c7d051f8c288"
   },
   "outputs": [
    {
     "data": {
      "text/html": [
       "<div>\n",
       "<style scoped>\n",
       "    .dataframe tbody tr th:only-of-type {\n",
       "        vertical-align: middle;\n",
       "    }\n",
       "\n",
       "    .dataframe tbody tr th {\n",
       "        vertical-align: top;\n",
       "    }\n",
       "\n",
       "    .dataframe thead th {\n",
       "        text-align: right;\n",
       "    }\n",
       "</style>\n",
       "<table border=\"1\" class=\"dataframe\">\n",
       "  <thead>\n",
       "    <tr style=\"text-align: right;\">\n",
       "      <th></th>\n",
       "      <th>Smoking</th>\n",
       "      <th>Stroke</th>\n",
       "      <th>PhysicalHealth</th>\n",
       "      <th>DiffWalking</th>\n",
       "      <th>Age</th>\n",
       "      <th>Diabetic</th>\n",
       "      <th>PhysicalActivity</th>\n",
       "      <th>GenHealth</th>\n",
       "      <th>KidneyDisease</th>\n",
       "    </tr>\n",
       "    <tr>\n",
       "      <th>HeartDisease</th>\n",
       "      <th></th>\n",
       "      <th></th>\n",
       "      <th></th>\n",
       "      <th></th>\n",
       "      <th></th>\n",
       "      <th></th>\n",
       "      <th></th>\n",
       "      <th></th>\n",
       "      <th></th>\n",
       "    </tr>\n",
       "  </thead>\n",
       "  <tbody>\n",
       "    <tr>\n",
       "      <th>0</th>\n",
       "      <td>292422</td>\n",
       "      <td>292422</td>\n",
       "      <td>292422</td>\n",
       "      <td>292422</td>\n",
       "      <td>292422</td>\n",
       "      <td>292422</td>\n",
       "      <td>292422</td>\n",
       "      <td>292422</td>\n",
       "      <td>292422</td>\n",
       "    </tr>\n",
       "    <tr>\n",
       "      <th>1</th>\n",
       "      <td>27373</td>\n",
       "      <td>27373</td>\n",
       "      <td>27373</td>\n",
       "      <td>27373</td>\n",
       "      <td>27373</td>\n",
       "      <td>27373</td>\n",
       "      <td>27373</td>\n",
       "      <td>27373</td>\n",
       "      <td>27373</td>\n",
       "    </tr>\n",
       "  </tbody>\n",
       "</table>\n",
       "</div>"
      ],
      "text/plain": [
       "              Smoking  Stroke  PhysicalHealth  DiffWalking     Age  Diabetic  \\\n",
       "HeartDisease                                                                   \n",
       "0              292422  292422          292422       292422  292422    292422   \n",
       "1               27373   27373           27373        27373   27373     27373   \n",
       "\n",
       "              PhysicalActivity  GenHealth  KidneyDisease  \n",
       "HeartDisease                                              \n",
       "0                       292422     292422         292422  \n",
       "1                        27373      27373          27373  "
      ]
     },
     "execution_count": 15,
     "metadata": {},
     "output_type": "execute_result"
    }
   ],
   "source": [
    "df.groupby('HeartDisease').count()\n",
    "# Data is imbalanced"
   ]
  },
  {
   "cell_type": "markdown",
   "metadata": {},
   "source": [
    "Then we implement grid search to determine the best parameters "
   ]
  },
  {
   "cell_type": "code",
   "execution_count": 16,
   "metadata": {
    "colab": {
     "base_uri": "https://localhost:8080/"
    },
    "id": "TLefSSm1yeXB",
    "outputId": "63012a3e-9bc6-413b-eed7-ed9afd24948b"
   },
   "outputs": [
    {
     "name": "stdout",
     "output_type": "stream",
     "text": [
      "Fitting 5 folds for each of 7 candidates, totalling 35 fits\n",
      "[CV 1/5] END .......................max_depth=1;, score=0.510 total time=   0.0s\n",
      "[CV 2/5] END .......................max_depth=1;, score=0.516 total time=   0.0s\n",
      "[CV 3/5] END .......................max_depth=1;, score=0.516 total time=   0.0s\n",
      "[CV 4/5] END .......................max_depth=1;, score=0.523 total time=   0.0s\n",
      "[CV 5/5] END .......................max_depth=1;, score=0.532 total time=   0.0s\n",
      "[CV 1/5] END .......................max_depth=2;, score=0.717 total time=   0.0s\n",
      "[CV 2/5] END .......................max_depth=2;, score=0.728 total time=   0.0s\n",
      "[CV 3/5] END .......................max_depth=2;, score=0.728 total time=   0.0s\n",
      "[CV 4/5] END .......................max_depth=2;, score=0.724 total time=   0.0s\n",
      "[CV 5/5] END .......................max_depth=2;, score=0.717 total time=   0.0s\n",
      "[CV 1/5] END .......................max_depth=3;, score=0.630 total time=   0.1s\n",
      "[CV 2/5] END .......................max_depth=3;, score=0.653 total time=   0.1s\n",
      "[CV 3/5] END .......................max_depth=3;, score=0.651 total time=   0.1s\n",
      "[CV 4/5] END .......................max_depth=3;, score=0.653 total time=   0.0s\n",
      "[CV 5/5] END .......................max_depth=3;, score=0.649 total time=   0.1s\n",
      "[CV 1/5] END .......................max_depth=4;, score=0.620 total time=   0.1s\n",
      "[CV 2/5] END .......................max_depth=4;, score=0.668 total time=   0.1s\n",
      "[CV 3/5] END .......................max_depth=4;, score=0.641 total time=   0.1s\n",
      "[CV 4/5] END .......................max_depth=4;, score=0.641 total time=   0.1s\n",
      "[CV 5/5] END .......................max_depth=4;, score=0.648 total time=   0.1s\n",
      "[CV 1/5] END .......................max_depth=5;, score=0.650 total time=   0.1s\n",
      "[CV 2/5] END .......................max_depth=5;, score=0.666 total time=   0.1s\n",
      "[CV 3/5] END .......................max_depth=5;, score=0.664 total time=   0.1s\n",
      "[CV 4/5] END .......................max_depth=5;, score=0.665 total time=   0.1s\n",
      "[CV 5/5] END .......................max_depth=5;, score=0.660 total time=   0.1s\n",
      "[CV 1/5] END .......................max_depth=6;, score=0.664 total time=   0.1s\n",
      "[CV 2/5] END .......................max_depth=6;, score=0.684 total time=   0.2s\n",
      "[CV 3/5] END .......................max_depth=6;, score=0.713 total time=   0.1s\n",
      "[CV 4/5] END .......................max_depth=6;, score=0.675 total time=   0.1s\n",
      "[CV 5/5] END .......................max_depth=6;, score=0.716 total time=   0.2s\n",
      "[CV 1/5] END .......................max_depth=7;, score=0.706 total time=   0.2s\n",
      "[CV 2/5] END .......................max_depth=7;, score=0.714 total time=   0.2s\n",
      "[CV 3/5] END .......................max_depth=7;, score=0.720 total time=   0.2s\n",
      "[CV 4/5] END .......................max_depth=7;, score=0.719 total time=   0.2s\n",
      "[CV 5/5] END .......................max_depth=7;, score=0.711 total time=   0.2s\n",
      "{'mean_fit_time': array([0.08655887, 0.11862664, 0.14563265, 0.17163854, 0.21084743,\n",
      "       0.24605532, 0.25185633]), 'std_fit_time': array([0.00134539, 0.00344173, 0.00320068, 0.00205943, 0.01475992,\n",
      "       0.01845417, 0.01429187]), 'mean_score_time': array([0.0078043 , 0.00720196, 0.00760174, 0.00760155, 0.00860195,\n",
      "       0.009202  , 0.00880213]), 'std_score_time': array([0.00074934, 0.00039992, 0.00048998, 0.00049012, 0.00049002,\n",
      "       0.00074865, 0.00040016]), 'param_max_depth': masked_array(data=[1, 2, 3, 4, 5, 6, 7],\n",
      "             mask=[False, False, False, False, False, False, False],\n",
      "       fill_value='?',\n",
      "            dtype=object), 'params': [{'max_depth': 1}, {'max_depth': 2}, {'max_depth': 3}, {'max_depth': 4}, {'max_depth': 5}, {'max_depth': 6}, {'max_depth': 7}], 'split0_test_score': array([0.50987351, 0.71661533, 0.63038822, 0.61963133, 0.65001016,\n",
      "       0.66367517, 0.70626495]), 'split1_test_score': array([0.51550212, 0.7280758 , 0.65318407, 0.66845948, 0.66636439,\n",
      "       0.68428212, 0.71350396]), 'split2_test_score': array([0.51603371, 0.72824778, 0.65115152, 0.64070733, 0.66448819,\n",
      "       0.71336325, 0.71991432]), 'split3_test_score': array([0.52314764, 0.72449538, 0.6525274 , 0.64100439, 0.66486343,\n",
      "       0.67507309, 0.71899185]), 'split4_test_score': array([0.53207524, 0.71716256, 0.64936913, 0.64771182, 0.66032927,\n",
      "       0.71608374, 0.71145578]), 'mean_test_score': array([0.51932644, 0.72291937, 0.64732407, 0.64350287, 0.66121109,\n",
      "       0.69049547, 0.71402617]), 'std_test_score': array([0.00764145, 0.00510581, 0.00856819, 0.015649  , 0.00594767,\n",
      "       0.02084936, 0.00502881]), 'rank_test_score': array([7, 1, 5, 6, 4, 3, 2])}\n"
     ]
    }
   ],
   "source": [
    "trees = tree.DecisionTreeClassifier(class_weight='balanced')\n",
    "parameters = {'max_depth': range(1, 8)}\n",
    "grid = GridSearchCV(trees, parameters, verbose = 3)\n",
    "grid.fit(X, y)\n",
    "# View the Grid Search CV Results\n",
    "print(grid.cv_results_)"
   ]
  },
  {
   "cell_type": "code",
   "execution_count": 17,
   "metadata": {
    "colab": {
     "base_uri": "https://localhost:8080/",
     "height": 300
    },
    "id": "vRAx2ChD0oS3",
    "outputId": "8c6ea21f-4f24-4733-e6cf-69f6db6a0bea"
   },
   "outputs": [
    {
     "data": {
      "text/plain": [
       "Text(0.5, 1.0, 'Mean Accuracy across different Max Depth')"
      ]
     },
     "execution_count": 17,
     "metadata": {},
     "output_type": "execute_result"
    },
    {
     "data": {
      "image/png": "[encoded data removed]",
      "text/plain": [
       "<Figure size 432x288 with 1 Axes>"
      ]
     },
     "metadata": {
      "needs_background": "light"
     },
     "output_type": "display_data"
    }
   ],
   "source": [
    "plt.plot(range(1,8),grid.cv_results_['mean_test_score'])\n",
    "plt.xlabel('Max Depth')\n",
    "plt.ylabel('Mean Accuracy')\n",
    "plt.title('Mean Accuracy across different Max Depth')"
   ]
  },
  {
   "cell_type": "markdown",
   "metadata": {},
   "source": [
    "From here the best tree depth should be 2"
   ]
  },
  {
   "cell_type": "code",
   "execution_count": 18,
   "metadata": {
    "colab": {
     "base_uri": "https://localhost:8080/"
    },
    "id": "j1IG5r_Tzwjj",
    "outputId": "ebbce537-60c4-4f7a-f3a7-8474d8613e1d"
   },
   "outputs": [
    {
     "data": {
      "text/plain": [
       "DecisionTreeClassifier(class_weight='balanced', max_depth=2)"
      ]
     },
     "execution_count": 18,
     "metadata": {},
     "output_type": "execute_result"
    }
   ],
   "source": [
    "clf = tree.DecisionTreeClassifier(max_depth=2, class_weight='balanced')\n",
    "clf.fit(X_train,y_train)"
   ]
  },
  {
   "cell_type": "code",
   "execution_count": 19,
   "metadata": {
    "colab": {
     "base_uri": "https://localhost:8080/",
     "height": 373
    },
    "id": "6CtYsXCdz9t-",
    "outputId": "84096059-81fb-49e9-d8e1-c543d821ba4b"
   },
   "outputs": [
    {
     "data": {
      "text/plain": [
       "[Text(167.4, 181.2, 'X[4] <= 52.5\\ngini = 0.5\\nsamples = 223856\\nvalue = [111928.0, 111928.0]'),\n",
       " Text(83.7, 108.72, 'X[7] <= 1.5\\ngini = 0.322\\nsamples = 101829\\nvalue = [54375.867, 13771.783]'),\n",
       " Text(41.85, 36.23999999999998, 'gini = 0.495\\nsamples = 9811\\nvalue = [4815.506, 5871.19]'),\n",
       " Text(125.55000000000001, 36.23999999999998, 'gini = 0.237\\nsamples = 92018\\nvalue = [49560.36, 7900.593]'),\n",
       " Text(251.10000000000002, 108.72, 'X[7] <= 2.5\\ngini = 0.466\\nsamples = 122027\\nvalue = [57552.133, 98156.217]'),\n",
       " Text(209.25, 36.23999999999998, 'gini = 0.386\\nsamples = 60214\\nvalue = [26047.462, 73668.484]'),\n",
       " Text(292.95, 36.23999999999998, 'gini = 0.492\\nsamples = 61813\\nvalue = [31504.671, 24487.733]')]"
      ]
     },
     "execution_count": 19,
     "metadata": {},
     "output_type": "execute_result"
    },
    {
     "data": {
      "image/png": "[encoded data removed]",
      "text/plain": [
       "<Figure size 432x288 with 1 Axes>"
      ]
     },
     "metadata": {
      "needs_background": "light"
     },
     "output_type": "display_data"
    }
   ],
   "source": [
    "tree.plot_tree(clf)"
   ]
  },
  {
   "cell_type": "code",
   "execution_count": 20,
   "metadata": {
    "id": "4CU7J-LX0Bem"
   },
   "outputs": [],
   "source": [
    "y_pred =  clf.predict(X_test)"
   ]
  },
  {
   "cell_type": "code",
   "execution_count": 21,
   "metadata": {
    "colab": {
     "base_uri": "https://localhost:8080/"
    },
    "id": "A8MbAmIx0Ex6",
    "outputId": "b48245a1-bc77-4ac8-b661-70816702d5a3"
   },
   "outputs": [
    {
     "name": "stdout",
     "output_type": "stream",
     "text": [
      "Accuracy Score on train data:  0.7230987777857194\n",
      "Accuracy Score on test data:  0.7225007556885104\n"
     ]
    }
   ],
   "source": [
    "from sklearn.metrics import accuracy_score\n",
    "print('Accuracy Score on train data: ', accuracy_score(y_true=y_train, y_pred=clf.predict(X_train)))\n",
    "print('Accuracy Score on test data: ', accuracy_score(y_true=y_test, y_pred=y_pred))"
   ]
  },
  {
   "cell_type": "code",
   "execution_count": 22,
   "metadata": {
    "colab": {
     "base_uri": "https://localhost:8080/"
    },
    "id": "psfOKUmOGJGc",
    "outputId": "21fa75fe-5257-4f9d-dae5-1c1c7f271c27"
   },
   "outputs": [
    {
     "name": "stdout",
     "output_type": "stream",
     "text": [
      "f1 score on train data:  0.3043722224716075\n",
      "f1 score on test data:  0.30580688899898306\n",
      "recall on train data:  0.7106325001310067\n",
      "recall on test data:  0.7073582629674307\n"
     ]
    }
   ],
   "source": [
    "from sklearn.metrics import f1_score, recall_score\n",
    "print('f1 score on train data: ', f1_score(y_true = y_train, y_pred = clf.predict(X_train)))\n",
    "print('f1 score on test data: ', f1_score(y_true = y_test, y_pred = y_pred))\n",
    "print('recall on train data: ', recall_score(y_true = y_train, y_pred = clf.predict(X_train)))\n",
    "print('recall on test data: ', recall_score(y_true = y_test, y_pred = y_pred))"
   ]
  },
  {
   "cell_type": "code",
   "execution_count": 23,
   "metadata": {
    "colab": {
     "base_uri": "https://localhost:8080/",
     "height": 353
    },
    "id": "5G706FzPG5Jf",
    "outputId": "733414a1-b71d-4f53-aa75-93fae9fdc0e6"
   },
   "outputs": [
    {
     "data": {
      "text/plain": [
       "<sklearn.metrics._plot.confusion_matrix.ConfusionMatrixDisplay at 0x253d3254b50>"
      ]
     },
     "execution_count": 23,
     "metadata": {},
     "output_type": "execute_result"
    },
    {
     "data": {
      "image/png": "[encoded data removed]",
      "text/plain": [
       "<Figure size 432x288 with 2 Axes>"
      ]
     },
     "metadata": {
      "needs_background": "light"
     },
     "output_type": "display_data"
    }
   ],
   "source": [
    "from sklearn.metrics import plot_confusion_matrix\n",
    "plot_confusion_matrix(clf, X_test, y_test)  "
   ]
  },
  {
   "cell_type": "markdown",
   "metadata": {},
   "source": [
    "## KNN "
   ]
  },
  {
   "cell_type": "code",
   "execution_count": 24,
   "metadata": {
    "id": "qCT2wSkaFM_H"
   },
   "outputs": [],
   "source": [
    "k_range = range(1, 16)\n",
    "scores_list = []\n",
    "for k in k_range:\n",
    "  knn = KNeighborsClassifier(n_neighbors=k)\n",
    "  knn.fit(X_train, y_train)\n",
    "  y_pred = knn.predict(X_test)\n",
    "  scores_list.append(metrics.accuracy_score(y_test, y_pred))"
   ]
  },
  {
   "cell_type": "code",
   "execution_count": 25,
   "metadata": {
    "colab": {
     "base_uri": "https://localhost:8080/",
     "height": 296
    },
    "id": "EqW7_jg8Ffok",
    "outputId": "5faff87e-585b-4e6a-89f8-38667eca7228"
   },
   "outputs": [
    {
     "data": {
      "text/plain": [
       "Text(0, 0.5, 'Testing Accuracy')"
      ]
     },
     "execution_count": 25,
     "metadata": {},
     "output_type": "execute_result"
    },
    {
     "data": {
      "image/png": "[encoded data removed]",
      "text/plain": [
       "<Figure size 432x288 with 1 Axes>"
      ]
     },
     "metadata": {
      "needs_background": "light"
     },
     "output_type": "display_data"
    }
   ],
   "source": [
    "plt.plot(k_range, scores_list)\n",
    "plt.xlabel('Value of K for KNN')\n",
    "plt.ylabel('Testing Accuracy')"
   ]
  },
  {
   "cell_type": "markdown",
   "metadata": {
    "id": "fevSxnDsw8DX"
   },
   "source": [
    "## Training & Testing models"
   ]
  }
 ],
 "metadata": {
  "colab": {
   "collapsed_sections": [],
   "name": "Cogs 118A Final Project.ipynb",
   "provenance": []
  },
  "kernelspec": {
   "display_name": "Python 3 (ipykernel)",
   "language": "python",
   "name": "python3"
  },
  "language_info": {
   "codemirror_mode": {
    "name": "ipython",
    "version": 3
   },
   "file_extension": ".py",
   "mimetype": "text/x-python",
   "name": "python",
   "nbconvert_exporter": "python",
   "pygments_lexer": "ipython3",
   "version": "3.9.7"
  }
 },
 "nbformat": 4,
 "nbformat_minor": 1
}
